{
 "metadata": {
  "language_info": {
   "codemirror_mode": {
    "name": "ipython",
    "version": 3
   },
   "file_extension": ".py",
   "mimetype": "text/x-python",
   "name": "python",
   "nbconvert_exporter": "python",
   "pygments_lexer": "ipython3",
   "version": "3.8.6-final"
  },
  "orig_nbformat": 2,
  "kernelspec": {
   "name": "python3",
   "display_name": "Python 3",
   "language": "python"
  }
 },
 "nbformat": 4,
 "nbformat_minor": 2,
 "cells": [
  {
   "cell_type": "code",
   "execution_count": 4,
   "metadata": {},
   "outputs": [],
   "source": [
    "import numpy as np\n",
    "CONST_K=9e9\n",
    "np.set_printoptions(suppress=True, formatter={'float_kind':'{:.4e}'.format})\n"
   ]
  },
  {
   "cell_type": "code",
   "execution_count": 5,
   "metadata": {},
   "outputs": [],
   "source": [
    "def vector_unitario(point1, point2):\n",
    "    print(f\"norma = {np.linalg.norm(point2-point1)} vector = {(point2-point1)}\")\n",
    "    return (point2-point1)/np.linalg.norm(point2-point1) \n",
    "\n",
    "def angulo_vectores(v1, v2):\n",
    "    return 180*(1/np.pi)*np.arccos(\n",
    "            np.dot(v1,v2)/(np.linalg.norm(v1)*np.linalg.norm(v2))\n",
    "        )\n",
    "        \n",
    "def campo_electrico_linea(lamda, angulo1, angulo2, a):\n",
    "    global CONST_K\n",
    "    angulo1=(np.pi/180)*angulo1\n",
    "    angulo2=(np.pi/180)*angulo2\n",
    "    return  np.abs( (CONST_K*lamda/a)*(np.cos(angulo2)-np.cos(angulo1)))\n"
   ]
  },
  {
   "cell_type": "code",
   "execution_count": 3,
   "metadata": {},
   "outputs": [],
   "source": [
    "_A = np.array([0,4,0])\n",
    "_B = np.array([0,4,3])\n",
    "_C = np.array([3,0,3])\n",
    "_D = np.array([-3,0,3])\n",
    "_E = np.array([-3,0,-3])\n",
    "_F = np.array([3,0,-3])\n",
    "_G = np.array([0,0,3])\n",
    "_H = np.array([-3,0,0])\n",
    "_I = np.array([0,0,-3])\n",
    "_J = np.array([3,0,0])"
   ]
  },
  {
   "cell_type": "code",
   "execution_count": 19,
   "metadata": {},
   "outputs": [],
   "source": [
    "v_lambda = (-1/3)*1e-6\n",
    "r = 5e-4"
   ]
  },
  {
   "cell_type": "code",
   "execution_count": 6,
   "metadata": {},
   "outputs": [
    {
     "output_type": "stream",
     "name": "stdout",
     "text": [
      "norma = 7.810249675906654 vector = [-3  4  6]\n"
     ]
    },
    {
     "output_type": "execute_result",
     "data": {
      "text/plain": [
       "112.58853878798487"
      ]
     },
     "metadata": {},
     "execution_count": 6
    }
   ],
   "source": [
    "#Se calculan los angulos\n",
    "v_i = np.array([1,0,0])\n",
    "v_j = np.array([0,1,0])\n",
    "v_k = np.array([0,0,1])\n",
    "\n",
    "angulo_vectores(v_i, vector_unitario(_F,_B))"
   ]
  },
  {
   "cell_type": "code",
   "execution_count": 38,
   "metadata": {},
   "outputs": [
    {
     "output_type": "stream",
     "name": "stdout",
     "text": [
      "3.1962e+04\n"
     ]
    }
   ],
   "source": [
    "v_lambda = -(1/3)*1e-6\n",
    "a =np.sqrt(52)*1e-2\n",
    "print(\"%.4e\" % campo_electrico_linea(v_lambda,  180-67.41, 67.41,    a))"
   ]
  },
  {
   "cell_type": "code",
   "execution_count": 39,
   "metadata": {},
   "outputs": [
    {
     "output_type": "stream",
     "name": "stdout",
     "text": [
      "norma = 7.211102550927978 vector = [ 0 -4 -6]\n[0.0000e+00 -1.7729e+04 -2.6594e+04]\n"
     ]
    }
   ],
   "source": [
    "print(3.1962e+04*vector_unitario(_B, _I))\n"
   ]
  },
  {
   "cell_type": "code",
   "execution_count": 135,
   "metadata": {},
   "outputs": [
    {
     "output_type": "stream",
     "name": "stdout",
     "text": [
      "norma = 5.0 vector = [ 0 -4  3]\nnorma = 5.0 vector = [-3 -4  0]\nnorma = 5.0 vector = [ 0 -4 -3]\nnorma = 5.0 vector = [ 3 -4  0]\n"
     ]
    },
    {
     "output_type": "execute_result",
     "data": {
      "text/plain": [
       "array([0.0000e+00, -1.9754e+05, 0.0000e+00])"
      ]
     },
     "metadata": {},
     "execution_count": 135
    }
   ],
   "source": [
    "campo_electrico_linea(v_lambda, 59.04, 180-59.04,  a)*vector_unitario(_A, _G)+campo_electrico_linea(v_lambda, 59.04, 180-59.04,  a)*vector_unitario(_A, _H)+campo_electrico_linea(v_lambda, 59.04, 180-59.04,  a)*vector_unitario(_A, _I)+campo_electrico_linea(v_lambda, 59.04, 180-59.04,  a)*vector_unitario(_A, _J)"
   ]
  },
  {
   "cell_type": "code",
   "execution_count": 36,
   "metadata": {},
   "outputs": [
    {
     "output_type": "execute_result",
     "data": {
      "text/plain": [
       "array([0.0000e+00, -1.8147e+05, -2.6594e+04])"
      ]
     },
     "metadata": {},
     "execution_count": 36
    }
   ],
   "source": [
    "np.array([0,-9e4,0])+np.array([0, -1.7729e+04, -2.6594e+04])+np.array([2.7654e+04, -3.6872e+04, 0])+np.array([-2.7654e+04, -3.6872e+04, 0])"
   ]
  },
  {
   "cell_type": "code",
   "execution_count": 14,
   "metadata": {},
   "outputs": [
    {
     "output_type": "stream",
     "name": "stdout",
     "text": [
      "norma = 5.0 vector = [ 3 -4  0]\n"
     ]
    },
    {
     "output_type": "execute_result",
     "data": {
      "text/plain": [
       "array([ 0.6, -0.8,  0. ])"
      ]
     },
     "metadata": {},
     "execution_count": 14
    }
   ],
   "source": [
    "vector_unitario(_B,_C)\n"
   ]
  }
 ]
}