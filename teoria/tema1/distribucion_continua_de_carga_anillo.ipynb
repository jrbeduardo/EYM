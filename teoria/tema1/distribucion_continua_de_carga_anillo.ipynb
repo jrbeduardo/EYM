{
 "metadata": {
  "language_info": {
   "codemirror_mode": {
    "name": "ipython",
    "version": 3
   },
   "file_extension": ".py",
   "mimetype": "text/x-python",
   "name": "python",
   "nbconvert_exporter": "python",
   "pygments_lexer": "ipython3",
   "version": "3.8.6-final"
  },
  "orig_nbformat": 2,
  "kernelspec": {
   "name": "python3",
   "display_name": "Python 3",
   "language": "python"
  }
 },
 "nbformat": 4,
 "nbformat_minor": 2,
 "cells": [
  {
   "cell_type": "code",
   "execution_count": 5,
   "metadata": {},
   "outputs": [],
   "source": [
    "import numpy as np\n",
    "CONST_K=9e9\n",
    "np.set_printoptions(suppress=True, formatter={'float_kind':'{:.4e}'.format})\n"
   ]
  },
  {
   "cell_type": "code",
   "execution_count": 48,
   "metadata": {},
   "outputs": [],
   "source": [
    "def vector_unitario(point1, point2):\n",
    "    print(f\"norma = {np.linalg.norm(point2-point1)} vector = {(point2-point1)}\")\n",
    "    return (point2-point1)/np.linalg.norm(point2-point1) \n",
    "\n",
    "def campo_electrico_anillo(lamda, point, centro, a):\n",
    "    global CONST_K\n",
    "    v = vector_unitario(centro, point)\n",
    "    b = np.linalg.norm(v)*1e-2\n",
    "    return  np.abs( (CONST_K*2*np.pi*a*lamda*b)/(a**2+b**2)**(3/2) )*v\n",
    "\n",
    "def campo_electrico_anillo_carga(Q, point, a, centro):\n",
    "    global CONST_K\n",
    "    v = vector_unitario(centro, point)\n",
    "    b = np.linalg.norm(point-centro)*1e-2\n",
    "    return  np.abs( (CONST_K*Q*b)/((a**2+b**2)**(3/2)))*v\n",
    "\n"
   ]
  },
  {
   "cell_type": "code",
   "execution_count": 7,
   "metadata": {},
   "outputs": [],
   "source": [
    "_B = np.array([4,0,0])\n",
    "_C = np.array([90,0,0])\n",
    "centro = np.array([0,0,0])"
   ]
  },
  {
   "cell_type": "code",
   "execution_count": 24,
   "metadata": {},
   "outputs": [
    {
     "output_type": "execute_result",
     "data": {
      "text/plain": [
       "1.25e-11"
      ]
     },
     "metadata": {},
     "execution_count": 24
    }
   ],
   "source": [
    "a = 3e-2\n",
    "Q = 12.5e-12"
   ]
  },
  {
   "cell_type": "code",
   "execution_count": 50,
   "metadata": {},
   "outputs": [
    {
     "output_type": "stream",
     "name": "stdout",
     "text": [
      "norma = 4.0 vector = [4 0 0]\n"
     ]
    },
    {
     "output_type": "execute_result",
     "data": {
      "text/plain": [
       "array([3.6000e+01, 0.0000e+00, 0.0000e+00])"
      ]
     },
     "metadata": {},
     "execution_count": 50
    }
   ],
   "source": [
    "campo_electrico_anillo_carga(Q, _B, a, centro)"
   ]
  }
 ]
}